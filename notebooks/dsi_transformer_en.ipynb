{
 "cells": [
  {
   "cell_type": "code",
   "execution_count": 1,
   "metadata": {},
   "outputs": [
    {
     "name": "stdout",
     "output_type": "stream",
     "text": [
      "Python 3.8.20\n"
     ]
    }
   ],
   "source": [
    "!python -V"
   ]
  },
  {
   "cell_type": "code",
   "execution_count": 3,
   "metadata": {},
   "outputs": [
    {
     "name": "stdout",
     "output_type": "stream",
     "text": [
      "11.8\n",
      "True\n"
     ]
    }
   ],
   "source": [
    "import torch\n",
    "print(torch.version.cuda)  # Check the CUDA version\n",
    "print(torch.cuda.is_available())  # Check if CUDA is available"
   ]
  },
  {
   "cell_type": "code",
   "execution_count": null,
   "metadata": {},
   "outputs": [],
   "source": [
    "# conda install pytorch torchvision torchaudio pytorch-cuda=11.8 -c pytorch -c nvidia"
   ]
  },
  {
   "cell_type": "code",
   "execution_count": null,
   "metadata": {},
   "outputs": [
    {
     "name": "stdout",
     "output_type": "stream",
     "text": [
      "/home/hoang/.conda/envs/dsi/lib/python3.8/site-packages/apache_beam/__init__.py:79: UserWarning: Python 3.8 reaches EOL in October 2024 and support will be removed from Apache Beam in version 2.61.0. See https://github.com/apache/beam/issues/31192 for more information.\n",
      "  warnings.warn(\n",
      "Using custom data configuration default\n",
      "Downloading and preparing dataset natural_questions/default (download: 41.97 GiB, generated: 92.95 GiB, post-processed: Unknown size, total: 134.92 GiB) to cache/natural_questions/default/0.0.2/19bc04755018a3ad02ee74f7045cde4ba9b4162cb64450a87030ab786b123b76...\n",
      "Downloading: 100%|██████████████████████████████████████████████████████████████████████████████████████████████████████████████| 13.6k/13.6k [00:00<00:00, 12.5MB/s]\n",
      "Downloading: 100%|████████████████████████████████████████████████████████████████████████████████████████████████████████████| 97.4G/97.4G [1:27:23<00:00, 18.6MB/s]\n",
      "Downloading: 100%|██████████████████████████████████████████████████████████████████████████████████████████████████████████████| 2.35G/2.35G [02:07<00:00, 18.4MB/s]\n",
      "Dataset natural_questions downloaded and prepared to cache/natural_questions/default/0.0.2/19bc04755018a3ad02ee74f7045cde4ba9b4162cb64450a87030ab786b123b76. Subsequent calls will reuse this data.\n",
      "100%|██████████████████████████████████████████████████████████████████████████████████████████████████████████████████████████████████| 2/2 [00:01<00:00,  1.54it/s]\n"
     ]
    }
   ],
   "source": [
    "%cd /home/hoang/DSI-transformers/data/NQ\n",
    "!python create_NQ_train_valid.py"
   ]
  },
  {
   "cell_type": "code",
   "execution_count": 10,
   "metadata": {},
   "outputs": [
    {
     "name": "stdout",
     "output_type": "stream",
     "text": [
      "Sun Nov 10 10:26:39 2024       \n",
      "+---------------------------------------------------------------------------------------+\n",
      "| NVIDIA-SMI 535.183.06             Driver Version: 535.183.06   CUDA Version: 12.2     |\n",
      "|-----------------------------------------+----------------------+----------------------+\n",
      "| GPU  Name                 Persistence-M | Bus-Id        Disp.A | Volatile Uncorr. ECC |\n",
      "| Fan  Temp   Perf          Pwr:Usage/Cap |         Memory-Usage | GPU-Util  Compute M. |\n",
      "|                                         |                      |               MIG M. |\n",
      "|=========================================+======================+======================|\n",
      "|   0  NVIDIA GeForce RTX 4090        Off | 00000000:86:00.0 Off |                  Off |\n",
      "| 30%   48C    P2             250W / 450W |  18399MiB / 24564MiB |     81%      Default |\n",
      "|                                         |                      |                  N/A |\n",
      "+-----------------------------------------+----------------------+----------------------+\n",
      "|   1  NVIDIA GeForce RTX 4090        Off | 00000000:AF:00.0 Off |                  Off |\n",
      "|  0%   47C    P8              38W / 450W |  18060MiB / 24564MiB |      0%      Default |\n",
      "|                                         |                      |                  N/A |\n",
      "+-----------------------------------------+----------------------+----------------------+\n",
      "                                                                                         \n",
      "+---------------------------------------------------------------------------------------+\n",
      "| Processes:                                                                            |\n",
      "|  GPU   GI   CI        PID   Type   Process name                            GPU Memory |\n",
      "|        ID   ID                                                             Usage      |\n",
      "|=======================================================================================|\n",
      "|    0   N/A  N/A      1757      C   .../envs/env_hosting-models/bin/python      384MiB |\n",
      "|    0   N/A  N/A   2911824      C   ...linh/.conda/envs/pytorch/bin/python     2654MiB |\n",
      "|    0   N/A  N/A   3480883      C   python                                    15346MiB |\n",
      "|    1   N/A  N/A   2423757      C   ...uyen/.conda/envs/pytorch/bin/python    18050MiB |\n",
      "+---------------------------------------------------------------------------------------+\n"
     ]
    }
   ],
   "source": [
    "!nvidia-smi"
   ]
  },
  {
   "cell_type": "code",
   "execution_count": null,
   "metadata": {},
   "outputs": [],
   "source": [
    "%cd /home/hoang/DSI-transformers\n",
    "!CUDA_VISIBLE_DEVICES=1 python train.py"
   ]
  },
  {
   "cell_type": "markdown",
   "metadata": {},
   "source": [
    "**Result:**\n",
    "\n",
    "<div style=\"display: flex; justify-content: space-between;\">\n",
    "    <img src=\"../results/images/Section-1-Panel-0-bz5w5dekb.png\" alt=\"Section 1 Panel 2\" width=\"30%\" />\n",
    "    <img src=\"../results/images/Section-1-Panel-1-lfscqah9j.png\" alt=\"Section 1 Panel 1\" width=\"30%\" />\n",
    "    <img src=\"../results/images/Section-1-Panel-2-54mirygdx.png\" alt=\"Section 1 Panel 0\" width=\"30%\" />\n",
    "</div>"
   ]
  },
  {
   "cell_type": "code",
   "execution_count": null,
   "metadata": {},
   "outputs": [],
   "source": []
  }
 ],
 "metadata": {
  "kernelspec": {
   "display_name": "dsi",
   "language": "python",
   "name": "python3"
  },
  "language_info": {
   "codemirror_mode": {
    "name": "ipython",
    "version": 3
   },
   "file_extension": ".py",
   "mimetype": "text/x-python",
   "name": "python",
   "nbconvert_exporter": "python",
   "pygments_lexer": "ipython3",
   "version": "3.8.20"
  }
 },
 "nbformat": 4,
 "nbformat_minor": 2
}
