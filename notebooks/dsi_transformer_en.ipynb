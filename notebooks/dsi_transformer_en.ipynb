{
 "cells": [
  {
   "cell_type": "code",
   "execution_count": 1,
   "metadata": {},
   "outputs": [
    {
     "name": "stdout",
     "output_type": "stream",
     "text": [
      "Python 3.8.20\n"
     ]
    }
   ],
   "source": [
    "!python -V"
   ]
  },
  {
   "cell_type": "code",
   "execution_count": 3,
   "metadata": {},
   "outputs": [
    {
     "name": "stdout",
     "output_type": "stream",
     "text": [
      "11.8\n",
      "True\n"
     ]
    }
   ],
   "source": [
    "import torch\n",
    "print(torch.version.cuda)  # Check the CUDA version\n",
    "print(torch.cuda.is_available())  # Check if CUDA is available"
   ]
  },
  {
   "cell_type": "code",
   "execution_count": null,
   "metadata": {},
   "outputs": [],
   "source": [
    "# pip install -r requirements.txt\n",
    "# conda install pytorch torchvision torchaudio pytorch-cuda=11.8 -c pytorch -c nvidia"
   ]
  },
  {
   "cell_type": "code",
   "execution_count": null,
   "metadata": {},
   "outputs": [
    {
     "name": "stdout",
     "output_type": "stream",
     "text": [
      "/home/hoang/.conda/envs/dsi/lib/python3.8/site-packages/apache_beam/__init__.py:79: UserWarning: Python 3.8 reaches EOL in October 2024 and support will be removed from Apache Beam in version 2.61.0. See https://github.com/apache/beam/issues/31192 for more information.\n",
      "  warnings.warn(\n",
      "Using custom data configuration default\n",
      "Downloading and preparing dataset natural_questions/default (download: 41.97 GiB, generated: 92.95 GiB, post-processed: Unknown size, total: 134.92 GiB) to cache/natural_questions/default/0.0.2/19bc04755018a3ad02ee74f7045cde4ba9b4162cb64450a87030ab786b123b76...\n",
      "Downloading: 100%|██████████████████████████████████████████████████████████████████████████████████████████████████████████████| 13.6k/13.6k [00:00<00:00, 12.5MB/s]\n",
      "Downloading: 100%|████████████████████████████████████████████████████████████████████████████████████████████████████████████| 97.4G/97.4G [1:27:23<00:00, 18.6MB/s]\n",
      "Downloading: 100%|██████████████████████████████████████████████████████████████████████████████████████████████████████████████| 2.35G/2.35G [02:07<00:00, 18.4MB/s]\n",
      "Dataset natural_questions downloaded and prepared to cache/natural_questions/default/0.0.2/19bc04755018a3ad02ee74f7045cde4ba9b4162cb64450a87030ab786b123b76. Subsequent calls will reuse this data.\n",
      "100%|██████████████████████████████████████████████████████████████████████████████████████████████████████████████████████████████████| 2/2 [00:01<00:00,  1.54it/s]\n"
     ]
    }
   ],
   "source": [
    "%cd /home/hoang/DSI-transformers/data/NQ\n",
    "!python create_NQ_train_valid.py"
   ]
  },
  {
   "cell_type": "code",
   "execution_count": 1,
   "metadata": {},
   "outputs": [
    {
     "name": "stdout",
     "output_type": "stream",
     "text": [
      "Wed Nov 13 04:44:33 2024       \n",
      "+---------------------------------------------------------------------------------------+\n",
      "| NVIDIA-SMI 535.183.06             Driver Version: 535.183.06   CUDA Version: 12.2     |\n",
      "|-----------------------------------------+----------------------+----------------------+\n",
      "| GPU  Name                 Persistence-M | Bus-Id        Disp.A | Volatile Uncorr. ECC |\n",
      "| Fan  Temp   Perf          Pwr:Usage/Cap |         Memory-Usage | GPU-Util  Compute M. |\n",
      "|                                         |                      |               MIG M. |\n",
      "|=========================================+======================+======================|\n",
      "|   0  NVIDIA GeForce RTX 4090        Off | 00000000:86:00.0 Off |                  Off |\n",
      "| 30%   40C    P2             112W / 450W |   3050MiB / 24564MiB |     17%      Default |\n",
      "|                                         |                      |                  N/A |\n",
      "+-----------------------------------------+----------------------+----------------------+\n",
      "|   1  NVIDIA GeForce RTX 4090        Off | 00000000:AF:00.0 Off |                  Off |\n",
      "| 31%   47C    P2             101W / 450W |   5706MiB / 24564MiB |     14%      Default |\n",
      "|                                         |                      |                  N/A |\n",
      "+-----------------------------------------+----------------------+----------------------+\n",
      "                                                                                         \n",
      "+---------------------------------------------------------------------------------------+\n",
      "| Processes:                                                                            |\n",
      "|  GPU   GI   CI        PID   Type   Process name                            GPU Memory |\n",
      "|        ID   ID                                                             Usage      |\n",
      "|=======================================================================================|\n",
      "|    0   N/A  N/A      1757      C   .../envs/env_hosting-models/bin/python      384MiB |\n",
      "|    0   N/A  N/A   2911824      C   ...linh/.conda/envs/pytorch/bin/python     2654MiB |\n",
      "|    1   N/A  N/A   2358504      C   python3                                    5700MiB |\n",
      "+---------------------------------------------------------------------------------------+\n"
     ]
    }
   ],
   "source": [
    "!nvidia-smi"
   ]
  },
  {
   "cell_type": "markdown",
   "metadata": {},
   "source": [
    "note: num epoch = ceil(max_steps / num_batch)"
   ]
  },
  {
   "cell_type": "code",
   "execution_count": 2,
   "metadata": {},
   "outputs": [
    {
     "name": "stdout",
     "output_type": "stream",
     "text": [
      "/home/hoang/DSI-transformers\n",
      "\u001b[34m\u001b[1mwandb\u001b[0m: Using wandb-core as the SDK backend.  Please refer to https://wandb.me/wandb-core for more information.\n",
      "\u001b[34m\u001b[1mwandb\u001b[0m: Currently logged in as: \u001b[33mtrunghoang\u001b[0m (\u001b[33mhoangtrung\u001b[0m). Use \u001b[1m`wandb login --relogin`\u001b[0m to force relogin\n",
      "\u001b[34m\u001b[1mwandb\u001b[0m: Tracking run with wandb version 0.18.6\n",
      "\u001b[34m\u001b[1mwandb\u001b[0m: Run data is saved locally in \u001b[35m\u001b[1m/home/hoang/DSI-transformers/wandb/run-20241113_044453-oepy6gju\u001b[0m\n",
      "\u001b[34m\u001b[1mwandb\u001b[0m: Run \u001b[1m`wandb offline`\u001b[0m to turn off syncing.\n",
      "\u001b[34m\u001b[1mwandb\u001b[0m: Syncing run \u001b[33mNQ-10k-t5-large\u001b[0m\n",
      "\u001b[34m\u001b[1mwandb\u001b[0m: ⭐️ View project at \u001b[34m\u001b[4mhttps://wandb.ai/hoangtrung/DSI\u001b[0m\n",
      "\u001b[34m\u001b[1mwandb\u001b[0m: 🚀 View run at \u001b[34m\u001b[4mhttps://wandb.ai/hoangtrung/DSI/runs/oepy6gju\u001b[0m\n",
      "/home/hoang/.conda/envs/dsi/lib/python3.8/site-packages/transformers/modeling_utils.py:1439: FutureWarning: You are using `torch.load` with `weights_only=False` (the current default value), which uses the default pickle module implicitly. It is possible to construct malicious pickle data which will execute arbitrary code during unpickling (See https://github.com/pytorch/pytorch/blob/main/SECURITY.md#untrusted-models for more details). In a future release, the default value for `weights_only` will be flipped to `True`. This limits the functions that could be executed during unpickling. Arbitrary objects will no longer be allowed to be loaded via this mode unless they are explicitly allowlisted by the user via `torch.serialization.add_safe_globals`. We recommend you start setting `weights_only=True` for any use case where you don't have full control of the loaded file. Please open an issue on GitHub for any issues related to this experimental feature.\n",
      "  state_dict = torch.load(resolved_archive_file, map_location=\"cpu\")\n",
      "Using custom data configuration default-1916e5e8b71a56d6\n",
      "Reusing dataset json (cache/json/default-1916e5e8b71a56d6/0.0.0/ac0ca5f5289a6cf108e706efcf040422dbbfa8e658dee6a819f20d76bb84d26b)\n",
      "100%|████████████████████████████████████████████| 1/1 [00:00<00:00, 210.58it/s]\n",
      "Using custom data configuration default-1916e5e8b71a56d6\n",
      "Reusing dataset json (cache/json/default-1916e5e8b71a56d6/0.0.0/ac0ca5f5289a6cf108e706efcf040422dbbfa8e658dee6a819f20d76bb84d26b)\n",
      "100%|████████████████████████████████████████████| 1/1 [00:00<00:00, 340.53it/s]\n",
      "Using custom data configuration default-ffb3ec8ed7320a17\n",
      "Reusing dataset json (cache/json/default-ffb3ec8ed7320a17/0.0.0/ac0ca5f5289a6cf108e706efcf040422dbbfa8e658dee6a819f20d76bb84d26b)\n",
      "100%|████████████████████████████████████████████| 1/1 [00:00<00:00, 461.01it/s]\n",
      "max_steps is given, it will override any value given in num_train_epochs\n",
      "/home/hoang/.conda/envs/dsi/lib/python3.8/site-packages/transformers/optimization.py:306: FutureWarning: This implementation of AdamW is deprecated and will be removed in a future version. Use the PyTorch implementation torch.optim.AdamW instead, or set `no_deprecation_warning=True` to disable this warning\n",
      "  warnings.warn(\n",
      "***** Running training *****\n",
      "  Num examples = 51\n",
      "  Num Epochs = 4\n",
      "  Instantaneous batch size per device = 2\n",
      "  Total train batch size (w. parallel, distributed & accumulation) = 2\n",
      "  Gradient Accumulation steps = 1\n",
      "  Total optimization steps = 100\n",
      "Automatic Weights & Biases logging enabled, to disable set os.environ[\"WANDB_DISABLED\"] = \"true\"\n",
      " 26%|██████████▉                               | 26/100 [00:12<00:27,  2.65it/s]\n",
      "Evaluating dev queries:   0%|                             | 0/6 [00:00<?, ?it/s]\u001b[A\n",
      "Evaluating dev queries:  17%|███▌                 | 1/6 [00:06<00:30,  6.00s/it]\u001b[A\n",
      "Evaluating dev queries:  33%|███████              | 2/6 [00:06<00:10,  2.65s/it]\u001b[A\n",
      "Evaluating dev queries:  50%|██████████▌          | 3/6 [00:06<00:04,  1.57s/it]\u001b[A\n",
      "Evaluating dev queries:  67%|██████████████       | 4/6 [00:06<00:02,  1.07s/it]\u001b[A\n",
      "Evaluating dev queries:  83%|█████████████████▌   | 5/6 [00:07<00:00,  1.26it/s]\u001b[A\n",
      "Evaluating dev queries: 100%|█████████████████████| 6/6 [00:07<00:00,  1.25s/it]\u001b[A\n",
      "{'loss': 3.5438, 'learning_rate': 0.0005, 'epoch': 1.92}                        \n",
      " 50%|█████████████████████                     | 50/100 [00:29<00:18,  2.72it/s]***** Running Evaluation *****\n",
      "  Num examples = 51\n",
      "  Batch size = 2\n",
      "\n",
      "  0%|                                                    | 0/26 [00:00<?, ?it/s]\u001b[A\n",
      "  8%|███▍                                        | 2/26 [00:00<00:03,  6.59it/s]\u001b[A\n",
      " 12%|█████                                       | 3/26 [00:00<00:04,  4.69it/s]\u001b[A\n",
      " 15%|██████▊                                     | 4/26 [00:00<00:05,  4.03it/s]\u001b[A\n",
      " 19%|████████▍                                   | 5/26 [00:01<00:05,  3.76it/s]\u001b[A\n",
      " 23%|██████████▏                                 | 6/26 [00:01<00:05,  3.61it/s]\u001b[A\n",
      " 27%|███████████▊                                | 7/26 [00:01<00:05,  3.36it/s]\u001b[A\n",
      " 31%|█████████████▌                              | 8/26 [00:02<00:05,  3.28it/s]\u001b[A\n",
      " 35%|███████████████▏                            | 9/26 [00:02<00:05,  3.25it/s]\u001b[A\n",
      " 38%|████████████████▌                          | 10/26 [00:02<00:05,  3.17it/s]\u001b[A\n",
      " 42%|██████████████████▏                        | 11/26 [00:03<00:04,  3.18it/s]\u001b[A\n",
      " 46%|███████████████████▊                       | 12/26 [00:03<00:04,  3.15it/s]\u001b[A\n",
      " 50%|█████████████████████▌                     | 13/26 [00:03<00:04,  3.16it/s]\u001b[A\n",
      " 54%|███████████████████████▏                   | 14/26 [00:04<00:03,  3.17it/s]\u001b[A\n",
      " 58%|████████████████████████▊                  | 15/26 [00:04<00:03,  3.02it/s]\u001b[A\n",
      " 62%|██████████████████████████▍                | 16/26 [00:04<00:03,  2.85it/s]\u001b[A\n",
      " 65%|████████████████████████████               | 17/26 [00:05<00:03,  2.75it/s]\u001b[A\n",
      " 69%|█████████████████████████████▊             | 18/26 [00:05<00:02,  2.69it/s]\u001b[A\n",
      " 73%|███████████████████████████████▍           | 19/26 [00:06<00:02,  2.65it/s]\u001b[A\n",
      " 77%|█████████████████████████████████          | 20/26 [00:06<00:02,  2.59it/s]\u001b[A\n",
      " 81%|██████████████████████████████████▋        | 21/26 [00:06<00:01,  2.55it/s]\u001b[A\n",
      " 85%|████████████████████████████████████▍      | 22/26 [00:07<00:01,  2.68it/s]\u001b[A\n",
      " 88%|██████████████████████████████████████     | 23/26 [00:07<00:01,  2.84it/s]\u001b[A\n",
      " 92%|███████████████████████████████████████▋   | 24/26 [00:07<00:00,  2.97it/s]\u001b[A\n",
      " 96%|█████████████████████████████████████████▎ | 25/26 [00:08<00:00,  3.08it/s]\u001b[A\n",
      "100%|███████████████████████████████████████████| 26/26 [00:08<00:00,  3.21it/s]\u001b[Afinal metrics:  {'eval_loss': 1.4163552522659302, 'eval_accuracy': 0.0392156862745098}\n",
      "                                                                                \n",
      "\u001b[A{'eval_loss': 1.4163552522659302, 'eval_accuracy': 0.0392156862745098, 'eval_runtime': 9.6172, 'eval_samples_per_second': 5.303, 'eval_steps_per_second': 2.703, 'epoch': 1.92}\n",
      " 50%|█████████████████████                     | 50/100 [00:39<00:18,  2.72it/s]\n",
      "100%|███████████████████████████████████████████| 26/26 [00:08<00:00,  3.21it/s]\u001b[A\n",
      "                                                                                \u001b[ASaving model checkpoint to ./results/checkpoint-50\n",
      "Configuration saved in ./results/checkpoint-50/config.json\n",
      "Model weights saved in ./results/checkpoint-50/pytorch_model.bin\n",
      "tokenizer config file saved in ./results/checkpoint-50/tokenizer_config.json\n",
      "Special tokens file saved in ./results/checkpoint-50/special_tokens_map.json\n",
      " 52%|█████████████████████▊                    | 52/100 [01:03<05:45,  7.19s/it]\n",
      "Evaluating dev queries:   0%|                             | 0/6 [00:00<?, ?it/s]\u001b[A\n",
      "Evaluating dev queries:  17%|███▌                 | 1/6 [00:00<00:04,  1.13it/s]\u001b[A\n",
      "Evaluating dev queries:  33%|███████              | 2/6 [00:01<00:02,  1.84it/s]\u001b[A\n",
      "Evaluating dev queries:  50%|██████████▌          | 3/6 [00:01<00:01,  2.35it/s]\u001b[A\n",
      "Evaluating dev queries:  67%|██████████████       | 4/6 [00:01<00:00,  2.66it/s]\u001b[A\n",
      "Evaluating dev queries:  83%|█████████████████▌   | 5/6 [00:02<00:00,  2.90it/s]\u001b[A\n",
      "Evaluating dev queries: 100%|█████████████████████| 6/6 [00:02<00:00,  2.52it/s]\u001b[A\n",
      " 78%|████████████████████████████████▊         | 78/100 [01:16<00:07,  2.81it/s]\n",
      "Evaluating dev queries:   0%|                             | 0/6 [00:00<?, ?it/s]\u001b[A\n",
      "Evaluating dev queries:  17%|███▌                 | 1/6 [00:00<00:04,  1.13it/s]\u001b[A\n",
      "Evaluating dev queries:  33%|███████              | 2/6 [00:01<00:02,  1.85it/s]\u001b[A\n",
      "Evaluating dev queries:  50%|██████████▌          | 3/6 [00:01<00:01,  2.35it/s]\u001b[A\n",
      "Evaluating dev queries:  67%|██████████████       | 4/6 [00:01<00:00,  2.65it/s]\u001b[A\n",
      "Evaluating dev queries:  83%|█████████████████▌   | 5/6 [00:02<00:00,  2.86it/s]\u001b[A\n",
      "Evaluating dev queries: 100%|█████████████████████| 6/6 [00:02<00:00,  2.49it/s]\u001b[A\n",
      "{'loss': 1.5924, 'learning_rate': 0.0, 'epoch': 3.85}                           \n",
      "100%|█████████████████████████████████████████| 100/100 [01:29<00:00,  1.39it/s]***** Running Evaluation *****\n",
      "  Num examples = 51\n",
      "  Batch size = 2\n",
      "\n",
      "  0%|                                                    | 0/26 [00:00<?, ?it/s]\u001b[A\n",
      "  8%|███▍                                        | 2/26 [00:00<00:04,  5.13it/s]\u001b[A\n",
      " 12%|█████                                       | 3/26 [00:00<00:06,  3.64it/s]\u001b[A\n",
      " 15%|██████▊                                     | 4/26 [00:01<00:06,  3.47it/s]\u001b[A\n",
      " 19%|████████▍                                   | 5/26 [00:01<00:06,  3.45it/s]\u001b[A\n",
      " 23%|██████████▏                                 | 6/26 [00:01<00:05,  3.42it/s]\u001b[A\n",
      " 27%|███████████▊                                | 7/26 [00:01<00:05,  3.43it/s]\u001b[A\n",
      " 31%|█████████████▌                              | 8/26 [00:02<00:05,  3.43it/s]\u001b[A\n",
      " 35%|███████████████▏                            | 9/26 [00:02<00:04,  3.43it/s]\u001b[A\n",
      " 38%|████████████████▌                          | 10/26 [00:02<00:04,  3.37it/s]\u001b[A\n",
      " 42%|██████████████████▏                        | 11/26 [00:03<00:04,  3.29it/s]\u001b[A\n",
      " 46%|███████████████████▊                       | 12/26 [00:03<00:04,  3.26it/s]\u001b[A\n",
      " 50%|█████████████████████▌                     | 13/26 [00:03<00:03,  3.27it/s]\u001b[A\n",
      " 54%|███████████████████████▏                   | 14/26 [00:04<00:03,  3.29it/s]\u001b[A\n",
      " 58%|████████████████████████▊                  | 15/26 [00:04<00:03,  3.29it/s]\u001b[A\n",
      " 62%|██████████████████████████▍                | 16/26 [00:04<00:03,  3.32it/s]\u001b[A\n",
      " 65%|████████████████████████████               | 17/26 [00:04<00:02,  3.32it/s]\u001b[A\n",
      " 69%|█████████████████████████████▊             | 18/26 [00:05<00:02,  3.34it/s]\u001b[A\n",
      " 73%|███████████████████████████████▍           | 19/26 [00:05<00:02,  3.36it/s]\u001b[A\n",
      " 77%|█████████████████████████████████          | 20/26 [00:05<00:01,  3.34it/s]\u001b[A\n",
      " 81%|██████████████████████████████████▋        | 21/26 [00:06<00:01,  3.36it/s]\u001b[A\n",
      " 85%|████████████████████████████████████▍      | 22/26 [00:06<00:01,  3.31it/s]\u001b[A\n",
      " 88%|██████████████████████████████████████     | 23/26 [00:06<00:00,  3.32it/s]\u001b[A\n",
      " 92%|███████████████████████████████████████▋   | 24/26 [00:07<00:00,  3.31it/s]\u001b[A\n",
      " 96%|█████████████████████████████████████████▎ | 25/26 [00:07<00:00,  3.34it/s]\u001b[A\n",
      "100%|███████████████████████████████████████████| 26/26 [00:07<00:00,  3.41it/s]\u001b[Afinal metrics:  {'eval_loss': 1.323034644126892, 'eval_accuracy': 0.0392156862745098}\n",
      "                                                                                \n",
      "\u001b[A{'eval_loss': 1.323034644126892, 'eval_accuracy': 0.0392156862745098, 'eval_runtime': 8.9199, 'eval_samples_per_second': 5.718, 'eval_steps_per_second': 2.915, 'epoch': 3.85}\n",
      "100%|█████████████████████████████████████████| 100/100 [01:37<00:00,  1.39it/s]\n",
      "100%|███████████████████████████████████████████| 26/26 [00:07<00:00,  3.41it/s]\u001b[A\n",
      "                                                                                \u001b[ASaving model checkpoint to ./results/checkpoint-100\n",
      "Configuration saved in ./results/checkpoint-100/config.json\n",
      "Model weights saved in ./results/checkpoint-100/pytorch_model.bin\n",
      "tokenizer config file saved in ./results/checkpoint-100/tokenizer_config.json\n",
      "Special tokens file saved in ./results/checkpoint-100/special_tokens_map.json\n",
      "\n",
      "Evaluating dev queries:   0%|                             | 0/6 [00:00<?, ?it/s]\u001b[A\n",
      "Evaluating dev queries:  33%|███████              | 2/6 [00:01<00:02,  1.47it/s]\u001b[A\n",
      "Evaluating dev queries:  50%|██████████▌          | 3/6 [00:01<00:01,  1.99it/s]\u001b[A\n",
      "Evaluating dev queries:  67%|██████████████       | 4/6 [00:02<00:00,  2.37it/s]\u001b[A\n",
      "Evaluating dev queries:  83%|█████████████████▌   | 5/6 [00:02<00:00,  2.68it/s]\u001b[A\n",
      "Evaluating dev queries: 100%|█████████████████████| 6/6 [00:02<00:00,  2.21it/s]\u001b[A\n",
      "\n",
      "\n",
      "Training completed. Do not forget to share your model on huggingface.co/models =)\n",
      "\n",
      "\n",
      "Loading best model from ./results/checkpoint-100 (score: 1.323034644126892).\n",
      "/home/hoang/.conda/envs/dsi/lib/python3.8/site-packages/transformers/trainer.py:1535: FutureWarning: You are using `torch.load` with `weights_only=False` (the current default value), which uses the default pickle module implicitly. It is possible to construct malicious pickle data which will execute arbitrary code during unpickling (See https://github.com/pytorch/pytorch/blob/main/SECURITY.md#untrusted-models for more details). In a future release, the default value for `weights_only` will be flipped to `True`. This limits the functions that could be executed during unpickling. Arbitrary objects will no longer be allowed to be loaded via this mode unless they are explicitly allowlisted by the user via `torch.serialization.add_safe_globals`. We recommend you start setting `weights_only=True` for any use case where you don't have full control of the loaded file. Please open an issue on GitHub for any issues related to this experimental feature.\n",
      "  state_dict = torch.load(best_model_path, map_location=\"cpu\")\n",
      "{'train_runtime': 127.5213, 'train_samples_per_second': 1.568, 'train_steps_per_second': 0.784, 'train_loss': 2.568062286376953, 'epoch': 3.85}\n",
      "100%|█████████████████████████████████████████| 100/100 [02:07<00:00,  1.27s/it]\n",
      "\u001b[1;34mwandb\u001b[0m: 🚀 View run \u001b[33mNQ-10k-t5-large\u001b[0m at: \u001b[34mhttps://wandb.ai/hoangtrung/DSI/runs/oepy6gju\u001b[0m\n",
      "\u001b[1;34mwandb\u001b[0m: Find logs at: \u001b[1;35mwandb/run-20241113_044453-oepy6gju/logs\u001b[0m\n"
     ]
    }
   ],
   "source": [
    "%cd /home/hoang/DSI-transformers\n",
    "!CUDA_VISIBLE_DEVICES=0 python train.py"
   ]
  },
  {
   "cell_type": "markdown",
   "metadata": {},
   "source": [
    "**Result:**\n",
    "\n",
    "<div style=\"display: flex; justify-content: space-between;\">\n",
    "    <img src=\"../results/images/Section-1-Panel-0-bz5w5dekb.png\" alt=\"Section 1 Panel 2\" width=\"30%\" />\n",
    "    <img src=\"../results/images/Section-1-Panel-1-lfscqah9j.png\" alt=\"Section 1 Panel 1\" width=\"30%\" />\n",
    "    <img src=\"../results/images/Section-1-Panel-2-54mirygdx.png\" alt=\"Section 1 Panel 0\" width=\"30%\" />\n",
    "</div>"
   ]
  },
  {
   "cell_type": "code",
   "execution_count": null,
   "metadata": {},
   "outputs": [],
   "source": []
  }
 ],
 "metadata": {
  "kernelspec": {
   "display_name": "dsi",
   "language": "python",
   "name": "python3"
  },
  "language_info": {
   "codemirror_mode": {
    "name": "ipython",
    "version": 3
   },
   "file_extension": ".py",
   "mimetype": "text/x-python",
   "name": "python",
   "nbconvert_exporter": "python",
   "pygments_lexer": "ipython3",
   "version": "3.8.20"
  }
 },
 "nbformat": 4,
 "nbformat_minor": 2
}
